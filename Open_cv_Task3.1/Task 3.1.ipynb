{
 "cells": [
  {
   "cell_type": "code",
   "execution_count": 1,
   "id": "7ab80609",
   "metadata": {},
   "outputs": [],
   "source": [
    "import cv2\n",
    "blackp = cv2.imread(\"black_panther.jpg\")\n",
    "captaina = cv2.imread(\"captain_america.jpg\")"
   ]
  },
  {
   "cell_type": "code",
   "execution_count": 2,
   "id": "eeed4085",
   "metadata": {},
   "outputs": [
    {
     "data": {
      "text/plain": [
       "numpy.ndarray"
      ]
     },
     "execution_count": 2,
     "metadata": {},
     "output_type": "execute_result"
    }
   ],
   "source": [
    "type(blackp)"
   ]
  },
  {
   "cell_type": "code",
   "execution_count": 3,
   "id": "73aa18f3",
   "metadata": {},
   "outputs": [
    {
     "data": {
      "text/plain": [
       "numpy.ndarray"
      ]
     },
     "execution_count": 3,
     "metadata": {},
     "output_type": "execute_result"
    }
   ],
   "source": [
    "type(captaina)"
   ]
  },
  {
   "cell_type": "code",
   "execution_count": 4,
   "id": "4a866258",
   "metadata": {},
   "outputs": [],
   "source": [
    "import numpy"
   ]
  },
  {
   "cell_type": "code",
   "execution_count": 5,
   "id": "88847dd7",
   "metadata": {},
   "outputs": [],
   "source": [
    "merged_image = numpy.hstack((blackp,captaina))"
   ]
  },
  {
   "cell_type": "code",
   "execution_count": 6,
   "id": "6eb15ccd",
   "metadata": {},
   "outputs": [
    {
     "data": {
      "text/plain": [
       "array([[[  7,   7,   7],\n",
       "        [  7,   7,   7],\n",
       "        [  8,   8,   8],\n",
       "        ...,\n",
       "        [105, 119, 142],\n",
       "        [104, 118, 141],\n",
       "        [106, 120, 143]],\n",
       "\n",
       "       [[  8,   8,   8],\n",
       "        [  8,   8,   8],\n",
       "        [  8,   8,   8],\n",
       "        ...,\n",
       "        [105, 119, 142],\n",
       "        [105, 119, 142],\n",
       "        [106, 120, 143]],\n",
       "\n",
       "       [[  8,   8,   8],\n",
       "        [  8,   8,   8],\n",
       "        [  8,   8,   8],\n",
       "        ...,\n",
       "        [106, 120, 142],\n",
       "        [106, 120, 142],\n",
       "        [107, 121, 143]],\n",
       "\n",
       "       ...,\n",
       "\n",
       "       [[ 44,  43,  47],\n",
       "        [ 42,  41,  45],\n",
       "        [ 41,  40,  44],\n",
       "        ...,\n",
       "        [ 12,   5,  50],\n",
       "        [ 13,   6,  51],\n",
       "        [ 13,   6,  51]],\n",
       "\n",
       "       [[ 43,  42,  46],\n",
       "        [ 42,  41,  45],\n",
       "        [ 41,  40,  44],\n",
       "        ...,\n",
       "        [ 13,   6,  51],\n",
       "        [ 13,   6,  51],\n",
       "        [ 13,   6,  51]],\n",
       "\n",
       "       [[ 39,  38,  42],\n",
       "        [ 40,  39,  43],\n",
       "        [ 39,  38,  42],\n",
       "        ...,\n",
       "        [ 13,   6,  51],\n",
       "        [ 13,   6,  51],\n",
       "        [ 13,   6,  51]]], dtype=uint8)"
      ]
     },
     "execution_count": 6,
     "metadata": {},
     "output_type": "execute_result"
    }
   ],
   "source": [
    "merged_image"
   ]
  },
  {
   "cell_type": "code",
   "execution_count": 7,
   "id": "aa8c9a3f",
   "metadata": {},
   "outputs": [
    {
     "data": {
      "text/plain": [
       "True"
      ]
     },
     "execution_count": 7,
     "metadata": {},
     "output_type": "execute_result"
    }
   ],
   "source": [
    "cv2.imwrite(\"blackpanther_captain_america.jpg\",merged_image)"
   ]
  },
  {
   "cell_type": "code",
   "execution_count": null,
   "id": "8b666da9",
   "metadata": {},
   "outputs": [],
   "source": []
  }
 ],
 "metadata": {
  "kernelspec": {
   "display_name": "Python 3",
   "language": "python",
   "name": "python3"
  },
  "language_info": {
   "codemirror_mode": {
    "name": "ipython",
    "version": 3
   },
   "file_extension": ".py",
   "mimetype": "text/x-python",
   "name": "python",
   "nbconvert_exporter": "python",
   "pygments_lexer": "ipython3",
   "version": "3.8.8"
  }
 },
 "nbformat": 4,
 "nbformat_minor": 5
}
